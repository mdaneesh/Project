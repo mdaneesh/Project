{
  "nbformat": 4,
  "nbformat_minor": 0,
  "metadata": {
    "colab": {
      "name": "Training the Model",
      "provenance": [],
      "collapsed_sections": []
    },
    "kernelspec": {
      "name": "python3",
      "display_name": "Python 3"
    },
    "accelerator": "GPU"
  },
  "cells": [
    {
      "cell_type": "code",
      "metadata": {
        "id": "yxr9ILOgoQlc",
        "colab": {
          "base_uri": "https://localhost:8080/"
        },
        "outputId": "463f238c-cf8d-49d3-e577-4c7e28f388ac"
      },
      "source": [
        "from google.colab import drive\n",
        "drive.mount('/content/drive')"
      ],
      "execution_count": null,
      "outputs": [
        {
          "output_type": "stream",
          "text": [
            "Mounted at /content/drive\n"
          ],
          "name": "stdout"
        }
      ]
    },
    {
      "cell_type": "code",
      "metadata": {
        "id": "IOs-Ebdxp3Aa",
        "colab": {
          "base_uri": "https://localhost:8080/"
        },
        "outputId": "d921d690-560f-4630-a3b7-2bc5294c627c"
      },
      "source": [
        "import os\n",
        "\n",
        "#set directory path for dataset\n",
        "os.chdir(\"/content/drive/My Drive/Project/Face Mask Detection\")\n",
        "Dataset = 'dataset'\n",
        "Data_Dir = os.listdir(Dataset)\n",
        "print(Data_Dir)\n",
        "\n"
      ],
      "execution_count": null,
      "outputs": [
        {
          "output_type": "stream",
          "text": [
            "['with_mask', 'without_mask']\n"
          ],
          "name": "stdout"
        }
      ]
    },
    {
      "cell_type": "code",
      "metadata": {
        "id": "58uY-4Ph_312"
      },
      "source": [
        "import cv2\n",
        "import numpy as np\n",
        "from tensorflow.keras.utils import to_categorical\n",
        "from sklearn.preprocessing import LabelBinarizer\n",
        "from sklearn.model_selection import train_test_split"
      ],
      "execution_count": null,
      "outputs": []
    },
    {
      "cell_type": "code",
      "metadata": {
        "id": "3kJoQXMJAWVz"
      },
      "source": [
        "img_rows, img_cols = 112,112\n",
        "\n",
        "images =[]\n",
        "labels = []\n"
      ],
      "execution_count": null,
      "outputs": []
    },
    {
      "cell_type": "code",
      "metadata": {
        "id": "0vvGThxbAnoL"
      },
      "source": [
        "for category in Data_Dir:\n",
        "  folder_path = os.path.join(Dataset, category)\n",
        "  for img in os.listdir(folder_path):\n",
        "    img_path = os.path.join(folder_path, img)\n",
        "    img = cv2.imread(img_path)\n",
        "\n",
        "    try:\n",
        "\n",
        "      #convert the image into gray scale\n",
        "      grayscale_img = cv2.cvtColor(img, cv2.COLOR_BGR2GRAY)\n",
        "\n",
        "      #resizing the gray scaled image into size of 56x56 in order to keep size of the images consistent\n",
        "      resized_img = cv2.resize(grayscale_img, (img_rows,img_cols))\n",
        "      images.append(resized_img)\n",
        "      labels.append(category)\n",
        "\n",
        "    #Exception Handling in case any error occurs\n",
        "    except Exception as e:\n",
        "      print('Exception:', e)  "
      ],
      "execution_count": null,
      "outputs": []
    },
    {
      "cell_type": "code",
      "metadata": {
        "id": "7GZFLYq6DO_5"
      },
      "source": [
        "images = np.array(images)/255\n",
        "images = np.reshape(images, (images.shape[0],img_rows,img_cols,1))"
      ],
      "execution_count": null,
      "outputs": []
    },
    {
      "cell_type": "code",
      "metadata": {
        "id": "PdJzMbn1FgIM"
      },
      "source": [
        "#perform one hot encoding on the labels since the label are in texture form\n",
        "lb = LabelBinarizer()\n",
        "labels = lb.fit_transform(labels)\n",
        "labels = to_categorical(labels)\n",
        "labels  = np.array(labels)\n"
      ],
      "execution_count": null,
      "outputs": []
    },
    {
      "cell_type": "code",
      "metadata": {
        "id": "K-xHRTZJGYo0"
      },
      "source": [
        "(train_X, text_X, train_y, test_y)= train_test_split(images, labels, test_size = 0.25,\n",
        "                                                     random_state=0) "
      ],
      "execution_count": null,
      "outputs": []
    },
    {
      "cell_type": "markdown",
      "metadata": {
        "id": "vCPrTXWUHjf_"
      },
      "source": [
        "## CNN Model"
      ]
    },
    {
      "cell_type": "code",
      "metadata": {
        "id": "Lrl-z6X9HX9i"
      },
      "source": [
        "from keras.models import Sequential\n",
        "from keras.layers import Dense, Activation, Flatten, Dropout\n",
        "from keras.layers import Conv2D, MaxPool2D"
      ],
      "execution_count": null,
      "outputs": []
    },
    {
      "cell_type": "code",
      "metadata": {
        "id": "0982-VFkKZqq"
      },
      "source": [
        "#define model parameters\n",
        "num_classes = 2"
      ],
      "execution_count": null,
      "outputs": []
    },
    {
      "cell_type": "code",
      "metadata": {
        "id": "jtaR7Cd1KkCu"
      },
      "source": [
        "model = Sequential()"
      ],
      "execution_count": null,
      "outputs": []
    },
    {
      "cell_type": "code",
      "metadata": {
        "id": "Vs8jDlDRKxX5"
      },
      "source": [
        "#first layer \n",
        "\n",
        "model.add(Conv2D(64,(3,3),input_shape =(img_rows,img_cols,1)))\n",
        "model.add(Activation('relu'))\n",
        "model.add(MaxPool2D(pool_size=(2,2)))"
      ],
      "execution_count": null,
      "outputs": []
    },
    {
      "cell_type": "code",
      "metadata": {
        "id": "vC0HkU8yLeOL"
      },
      "source": [
        "#second layer\n",
        "\n",
        "model.add(Conv2D(128,(3,3)))\n",
        "model.add(Activation('relu'))\n",
        "model.add(MaxPool2D(pool_size=(2,2)))"
      ],
      "execution_count": null,
      "outputs": []
    },
    {
      "cell_type": "code",
      "metadata": {
        "id": "OBh3skhiLjMf"
      },
      "source": [
        "# Flatten and Dropout Layer\n",
        "\n",
        "model.add(Flatten())\n",
        "model.add(Dropout(0.5))"
      ],
      "execution_count": null,
      "outputs": []
    },
    {
      "cell_type": "code",
      "metadata": {
        "id": "XDu_PoF3L3hk"
      },
      "source": [
        "# softmax Classifier\n",
        "\n",
        "model.add(Dense(64, activation = 'relu'))\n",
        "model.add(Dropout(0.5))\n",
        "model.add(Dense(num_classes, activation='softmax'))"
      ],
      "execution_count": null,
      "outputs": []
    },
    {
      "cell_type": "code",
      "metadata": {
        "id": "LrwyktfDMYZ4",
        "colab": {
          "base_uri": "https://localhost:8080/"
        },
        "outputId": "0f6858e8-6d93-43b2-c335-548f3bda3312"
      },
      "source": [
        "print(model.summary())"
      ],
      "execution_count": null,
      "outputs": [
        {
          "output_type": "stream",
          "text": [
            "Model: \"sequential\"\n",
            "_________________________________________________________________\n",
            "Layer (type)                 Output Shape              Param #   \n",
            "=================================================================\n",
            "conv2d (Conv2D)              (None, 110, 110, 64)      640       \n",
            "_________________________________________________________________\n",
            "activation (Activation)      (None, 110, 110, 64)      0         \n",
            "_________________________________________________________________\n",
            "max_pooling2d (MaxPooling2D) (None, 55, 55, 64)        0         \n",
            "_________________________________________________________________\n",
            "conv2d_1 (Conv2D)            (None, 53, 53, 128)       73856     \n",
            "_________________________________________________________________\n",
            "activation_1 (Activation)    (None, 53, 53, 128)       0         \n",
            "_________________________________________________________________\n",
            "max_pooling2d_1 (MaxPooling2 (None, 26, 26, 128)       0         \n",
            "_________________________________________________________________\n",
            "flatten (Flatten)            (None, 86528)             0         \n",
            "_________________________________________________________________\n",
            "dropout (Dropout)            (None, 86528)             0         \n",
            "_________________________________________________________________\n",
            "dense (Dense)                (None, 64)                5537856   \n",
            "_________________________________________________________________\n",
            "dropout_1 (Dropout)          (None, 64)                0         \n",
            "_________________________________________________________________\n",
            "dense_1 (Dense)              (None, 2)                 130       \n",
            "=================================================================\n",
            "Total params: 5,612,482\n",
            "Trainable params: 5,612,482\n",
            "Non-trainable params: 0\n",
            "_________________________________________________________________\n",
            "None\n"
          ],
          "name": "stdout"
        }
      ]
    },
    {
      "cell_type": "code",
      "metadata": {
        "id": "Lb9msrO_Mbxt"
      },
      "source": [
        "from keras.optimizers import Adam\n",
        "model.compile(optimizer='adam', loss='categorical_crossentropy', metrics = ['accuracy'])"
      ],
      "execution_count": null,
      "outputs": []
    },
    {
      "cell_type": "code",
      "metadata": {
        "id": "tnpz4wW5NJz8",
        "colab": {
          "base_uri": "https://localhost:8080/"
        },
        "outputId": "e1ee1bbe-e05e-4759-f577-71e80acba9b8"
      },
      "source": [
        "fitted_model = model.fit(\n",
        "    \n",
        "    train_X,\n",
        "    train_y,\n",
        "    epochs = 50,\n",
        "    validation_split=0.25)"
      ],
      "execution_count": null,
      "outputs": [
        {
          "output_type": "stream",
          "text": [
            "Epoch 1/50\n",
            "25/25 [==============================] - 1s 32ms/step - loss: 0.7635 - accuracy: 0.5271 - val_loss: 0.6558 - val_accuracy: 0.6783\n",
            "Epoch 2/50\n",
            "25/25 [==============================] - 1s 23ms/step - loss: 0.6352 - accuracy: 0.6486 - val_loss: 0.5751 - val_accuracy: 0.7984\n",
            "Epoch 3/50\n",
            "25/25 [==============================] - 1s 24ms/step - loss: 0.5235 - accuracy: 0.7571 - val_loss: 0.3773 - val_accuracy: 0.8760\n",
            "Epoch 4/50\n",
            "25/25 [==============================] - 1s 24ms/step - loss: 0.3599 - accuracy: 0.8605 - val_loss: 0.3099 - val_accuracy: 0.8798\n",
            "Epoch 5/50\n",
            "25/25 [==============================] - 1s 24ms/step - loss: 0.2812 - accuracy: 0.8979 - val_loss: 0.2452 - val_accuracy: 0.8915\n",
            "Epoch 6/50\n",
            "25/25 [==============================] - 1s 24ms/step - loss: 0.2024 - accuracy: 0.9251 - val_loss: 0.2075 - val_accuracy: 0.9070\n",
            "Epoch 7/50\n",
            "25/25 [==============================] - 1s 23ms/step - loss: 0.1626 - accuracy: 0.9367 - val_loss: 0.2047 - val_accuracy: 0.9147\n",
            "Epoch 8/50\n",
            "25/25 [==============================] - 1s 23ms/step - loss: 0.1479 - accuracy: 0.9522 - val_loss: 0.1999 - val_accuracy: 0.9109\n",
            "Epoch 9/50\n",
            "25/25 [==============================] - 1s 23ms/step - loss: 0.1062 - accuracy: 0.9651 - val_loss: 0.2316 - val_accuracy: 0.9225\n",
            "Epoch 10/50\n",
            "25/25 [==============================] - 1s 24ms/step - loss: 0.0659 - accuracy: 0.9819 - val_loss: 0.2617 - val_accuracy: 0.9109\n",
            "Epoch 11/50\n",
            "25/25 [==============================] - 1s 24ms/step - loss: 0.0863 - accuracy: 0.9677 - val_loss: 0.1980 - val_accuracy: 0.9147\n",
            "Epoch 12/50\n",
            "25/25 [==============================] - 1s 23ms/step - loss: 0.0623 - accuracy: 0.9845 - val_loss: 0.1693 - val_accuracy: 0.9147\n",
            "Epoch 13/50\n",
            "25/25 [==============================] - 1s 24ms/step - loss: 0.0391 - accuracy: 0.9871 - val_loss: 0.2499 - val_accuracy: 0.9225\n",
            "Epoch 14/50\n",
            "25/25 [==============================] - 1s 23ms/step - loss: 0.0533 - accuracy: 0.9806 - val_loss: 0.2134 - val_accuracy: 0.9147\n",
            "Epoch 15/50\n",
            "25/25 [==============================] - 1s 24ms/step - loss: 0.0453 - accuracy: 0.9871 - val_loss: 0.2052 - val_accuracy: 0.9225\n",
            "Epoch 16/50\n",
            "25/25 [==============================] - 1s 23ms/step - loss: 0.0347 - accuracy: 0.9897 - val_loss: 0.2103 - val_accuracy: 0.9302\n",
            "Epoch 17/50\n",
            "25/25 [==============================] - 1s 24ms/step - loss: 0.0349 - accuracy: 0.9884 - val_loss: 0.1956 - val_accuracy: 0.9302\n",
            "Epoch 18/50\n",
            "25/25 [==============================] - 1s 24ms/step - loss: 0.0379 - accuracy: 0.9935 - val_loss: 0.2217 - val_accuracy: 0.9302\n",
            "Epoch 19/50\n",
            "25/25 [==============================] - 1s 24ms/step - loss: 0.0233 - accuracy: 0.9897 - val_loss: 0.2183 - val_accuracy: 0.9341\n",
            "Epoch 20/50\n",
            "25/25 [==============================] - 1s 23ms/step - loss: 0.0174 - accuracy: 0.9987 - val_loss: 0.2609 - val_accuracy: 0.9147\n",
            "Epoch 21/50\n",
            "25/25 [==============================] - 1s 24ms/step - loss: 0.0114 - accuracy: 0.9961 - val_loss: 0.2155 - val_accuracy: 0.9380\n",
            "Epoch 22/50\n",
            "25/25 [==============================] - 1s 23ms/step - loss: 0.0104 - accuracy: 0.9987 - val_loss: 0.2331 - val_accuracy: 0.9264\n",
            "Epoch 23/50\n",
            "25/25 [==============================] - 1s 24ms/step - loss: 0.0085 - accuracy: 0.9987 - val_loss: 0.2494 - val_accuracy: 0.9225\n",
            "Epoch 24/50\n",
            "25/25 [==============================] - 1s 24ms/step - loss: 0.0074 - accuracy: 0.9987 - val_loss: 0.2400 - val_accuracy: 0.9302\n",
            "Epoch 25/50\n",
            "25/25 [==============================] - 1s 24ms/step - loss: 0.0170 - accuracy: 0.9948 - val_loss: 0.2024 - val_accuracy: 0.9419\n",
            "Epoch 26/50\n",
            "25/25 [==============================] - 1s 23ms/step - loss: 0.0277 - accuracy: 0.9910 - val_loss: 0.1860 - val_accuracy: 0.9419\n",
            "Epoch 27/50\n",
            "25/25 [==============================] - 1s 24ms/step - loss: 0.0279 - accuracy: 0.9910 - val_loss: 0.2071 - val_accuracy: 0.9341\n",
            "Epoch 28/50\n",
            "25/25 [==============================] - 1s 23ms/step - loss: 0.0118 - accuracy: 0.9974 - val_loss: 0.2186 - val_accuracy: 0.9419\n",
            "Epoch 29/50\n",
            "25/25 [==============================] - 1s 24ms/step - loss: 0.0108 - accuracy: 0.9974 - val_loss: 0.3076 - val_accuracy: 0.9225\n",
            "Epoch 30/50\n",
            "25/25 [==============================] - 1s 23ms/step - loss: 0.0251 - accuracy: 0.9922 - val_loss: 0.2163 - val_accuracy: 0.9186\n",
            "Epoch 31/50\n",
            "25/25 [==============================] - 1s 24ms/step - loss: 0.0287 - accuracy: 0.9871 - val_loss: 0.2429 - val_accuracy: 0.9264\n",
            "Epoch 32/50\n",
            "25/25 [==============================] - 1s 24ms/step - loss: 0.0233 - accuracy: 0.9922 - val_loss: 0.2061 - val_accuracy: 0.9341\n",
            "Epoch 33/50\n",
            "25/25 [==============================] - 1s 24ms/step - loss: 0.0179 - accuracy: 0.9948 - val_loss: 0.2020 - val_accuracy: 0.9380\n",
            "Epoch 34/50\n",
            "25/25 [==============================] - 1s 24ms/step - loss: 0.0269 - accuracy: 0.9948 - val_loss: 0.2308 - val_accuracy: 0.9264\n",
            "Epoch 35/50\n",
            "25/25 [==============================] - 1s 24ms/step - loss: 0.0193 - accuracy: 0.9910 - val_loss: 0.2143 - val_accuracy: 0.9380\n",
            "Epoch 36/50\n",
            "25/25 [==============================] - 1s 24ms/step - loss: 0.0090 - accuracy: 0.9974 - val_loss: 0.2792 - val_accuracy: 0.9419\n",
            "Epoch 37/50\n",
            "25/25 [==============================] - 1s 23ms/step - loss: 0.0086 - accuracy: 0.9974 - val_loss: 0.2331 - val_accuracy: 0.9457\n",
            "Epoch 38/50\n",
            "25/25 [==============================] - 1s 24ms/step - loss: 0.0113 - accuracy: 0.9987 - val_loss: 0.2414 - val_accuracy: 0.9341\n",
            "Epoch 39/50\n",
            "25/25 [==============================] - 1s 23ms/step - loss: 0.0074 - accuracy: 0.9974 - val_loss: 0.3269 - val_accuracy: 0.9302\n",
            "Epoch 40/50\n",
            "25/25 [==============================] - 1s 24ms/step - loss: 0.0332 - accuracy: 0.9884 - val_loss: 0.2684 - val_accuracy: 0.9457\n",
            "Epoch 41/50\n",
            "25/25 [==============================] - 1s 24ms/step - loss: 0.0204 - accuracy: 0.9961 - val_loss: 0.2504 - val_accuracy: 0.9496\n",
            "Epoch 42/50\n",
            "25/25 [==============================] - 1s 24ms/step - loss: 0.0245 - accuracy: 0.9910 - val_loss: 0.2645 - val_accuracy: 0.9302\n",
            "Epoch 43/50\n",
            "25/25 [==============================] - 1s 24ms/step - loss: 0.0134 - accuracy: 0.9948 - val_loss: 0.2275 - val_accuracy: 0.9574\n",
            "Epoch 44/50\n",
            "25/25 [==============================] - 1s 24ms/step - loss: 0.0055 - accuracy: 0.9987 - val_loss: 0.1928 - val_accuracy: 0.9380\n",
            "Epoch 45/50\n",
            "25/25 [==============================] - 1s 24ms/step - loss: 0.0095 - accuracy: 0.9974 - val_loss: 0.2125 - val_accuracy: 0.9496\n",
            "Epoch 46/50\n",
            "25/25 [==============================] - 1s 24ms/step - loss: 0.0080 - accuracy: 0.9961 - val_loss: 0.2252 - val_accuracy: 0.9496\n",
            "Epoch 47/50\n",
            "25/25 [==============================] - 1s 23ms/step - loss: 0.0050 - accuracy: 0.9987 - val_loss: 0.1913 - val_accuracy: 0.9535\n",
            "Epoch 48/50\n",
            "25/25 [==============================] - 1s 24ms/step - loss: 0.0035 - accuracy: 0.9987 - val_loss: 0.1863 - val_accuracy: 0.9535\n",
            "Epoch 49/50\n",
            "25/25 [==============================] - 1s 24ms/step - loss: 0.0022 - accuracy: 1.0000 - val_loss: 0.2013 - val_accuracy: 0.9496\n",
            "Epoch 50/50\n",
            "25/25 [==============================] - 1s 23ms/step - loss: 0.0020 - accuracy: 1.0000 - val_loss: 0.2101 - val_accuracy: 0.9496\n"
          ],
          "name": "stdout"
        }
      ]
    },
    {
      "cell_type": "markdown",
      "metadata": {
        "id": "wcZ7nBoJRyT3"
      },
      "source": [
        "\n",
        "Plot the training Loss and Accuracy\n",
        "---\n",
        "\n"
      ]
    },
    {
      "cell_type": "markdown",
      "metadata": {
        "id": "gW8u3GYyR9_A"
      },
      "source": [
        ""
      ]
    },
    {
      "cell_type": "code",
      "metadata": {
        "id": "Mgaf9j0vO75w",
        "colab": {
          "base_uri": "https://localhost:8080/",
          "height": 545
        },
        "outputId": "23e52183-ecb3-426b-97f4-f6c5867d5f39"
      },
      "source": [
        "from matplotlib import pyplot as plt\n",
        "\n",
        "#plot Training and Validation Loss\n",
        "plt.plot(fitted_model.history['loss'], 'r', label = 'traning loss')\n",
        "plt.plot(fitted_model.history['val_loss'], label = 'validation loss')\n",
        "plt.xlabel('Number of epochs')\n",
        "plt.ylabel('Loss Value')\n",
        "plt.legend()\n",
        "plt.show()\n",
        "\n",
        "#plot Training and Validation Accuracy\n",
        "plt.plot(fitted_model.history['accuracy'], 'r', label = 'traning accuracy')\n",
        "plt.plot(fitted_model.history['val_accuracy'], label = 'validation accuracy')\n",
        "plt.xlabel('Number of epochs')\n",
        "plt.ylabel('accuracy Value')\n",
        "plt.legend()\n",
        "plt.show()"
      ],
      "execution_count": null,
      "outputs": [
        {
          "output_type": "display_data",
          "data": {
            "image/png": "[encoded data removed]",
            "text/plain": [
              "<Figure size 432x288 with 1 Axes>"
            ]
          },
          "metadata": {
            "tags": [],
            "needs_background": "light"
          }
        },
        {
          "output_type": "display_data",
          "data": {
            "image/png": "[encoded data removed]",
            "text/plain": [
              "<Figure size 432x288 with 1 Axes>"
            ]
          },
          "metadata": {
            "tags": [],
            "needs_background": "light"
          }
        }
      ]
    },
    {
      "cell_type": "code",
      "metadata": {
        "id": "rNw3JXZuTEwR"
      },
      "source": [
        "#save the model\n",
        "model.save('face_mask_detection.h5')"
      ],
      "execution_count": null,
      "outputs": []
    }
  ]
}