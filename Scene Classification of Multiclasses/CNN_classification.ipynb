{
 "cells": [
  {
   "cell_type": "code",
   "execution_count": 36,
   "metadata": {},
   "outputs": [
    {
     "name": "stdout",
     "output_type": "stream",
     "text": [
      "Found 14034 images belonging to 6 classes.\n",
      "Found 3000 images belonging to 6 classes.\n"
     ]
    }
   ],
   "source": [
    "from keras.preprocessing.image import ImageDataGenerator\n",
    "train_datagen = ImageDataGenerator(\n",
    "        rescale=1./255,\n",
    "        shear_range=0.2,\n",
    "        zoom_range=0.2,\n",
    "        horizontal_flip=True)\n",
    "\n",
    "test_datagen = ImageDataGenerator(rescale=1./255)\n",
    "\n",
    "training_set = train_datagen.flow_from_directory(\n",
    "                                                    'dataset/seg_train/seg_train',\n",
    "                                                    target_size=(64, 64),\n",
    "                                                    batch_size=32,\n",
    "                                                    class_mode='categorical')\n",
    "\n",
    "test_set = test_datagen.flow_from_directory(\n",
    "                                            'dataset/seg_test/seg_test',\n",
    "                                            target_size=(64, 64),\n",
    "                                            batch_size=32,\n",
    "                                            class_mode='categorical')\n"
   ]
  },
  {
   "cell_type": "code",
   "execution_count": 37,
   "metadata": {},
   "outputs": [],
   "source": [
    "from keras.models import Sequential\n",
    "from keras.layers import Convolution2D, MaxPooling2D, Flatten, Dense\n",
    "from keras.regularizers import l2, l1_l2\n",
    "from keras.layers import Dropout"
   ]
  },
  {
   "cell_type": "code",
   "execution_count": 38,
   "metadata": {},
   "outputs": [],
   "source": [
    "classifier=Sequential()"
   ]
  },
  {
   "cell_type": "code",
   "execution_count": 39,
   "metadata": {},
   "outputs": [],
   "source": [
    "classifier.add(Convolution2D(32,(3,3),input_shape=(64,64,3),activation='relu'))\n",
    "classifier.add(MaxPooling2D(pool_size=(2,2)))\n"
   ]
  },
  {
   "cell_type": "code",
   "execution_count": 40,
   "metadata": {},
   "outputs": [],
   "source": [
    "classifier.add(Convolution2D(64,(3,3),input_shape=(64,64,3),activation='relu'))\n",
    "classifier.add(MaxPooling2D(pool_size=(2,2)))\n"
   ]
  },
  {
   "cell_type": "code",
   "execution_count": 41,
   "metadata": {},
   "outputs": [],
   "source": [
    "classifier.add(Convolution2D(128,(3,3),input_shape=(64,64,3),activation='relu'))\n",
    "classifier.add(MaxPooling2D(pool_size=(2,2)))\n"
   ]
  },
  {
   "cell_type": "code",
   "execution_count": 42,
   "metadata": {},
   "outputs": [],
   "source": [
    "classifier.add(Flatten())"
   ]
  },
  {
   "cell_type": "code",
   "execution_count": 43,
   "metadata": {},
   "outputs": [],
   "source": [
    "classifier.add(Dropout(0.1))"
   ]
  },
  {
   "cell_type": "code",
   "execution_count": 44,
   "metadata": {},
   "outputs": [],
   "source": [
    "classifier.add(Dense(units=128, activation='swish'))\n",
    "classifier.add(Dropout(0.1))\n",
    "classifier.add(Dense(units=64, activation='swish'))\n",
    "classifier.add(Dropout(0.1))\n",
    "classifier.add(Dense(units=6, activation='sigmoid'))"
   ]
  },
  {
   "cell_type": "code",
   "execution_count": 45,
   "metadata": {},
   "outputs": [],
   "source": [
    "classifier.compile(optimizer='adam', loss='categorical_crossentropy', metrics = ['accuracy'])"
   ]
  },
  {
   "cell_type": "code",
   "execution_count": 46,
   "metadata": {},
   "outputs": [
    {
     "name": "stdout",
     "output_type": "stream",
     "text": [
      "Model: \"sequential_3\"\n",
      "_________________________________________________________________\n",
      "Layer (type)                 Output Shape              Param #   \n",
      "=================================================================\n",
      "conv2d_9 (Conv2D)            (None, 62, 62, 32)        896       \n",
      "_________________________________________________________________\n",
      "max_pooling2d_9 (MaxPooling2 (None, 31, 31, 32)        0         \n",
      "_________________________________________________________________\n",
      "conv2d_10 (Conv2D)           (None, 29, 29, 64)        18496     \n",
      "_________________________________________________________________\n",
      "max_pooling2d_10 (MaxPooling (None, 14, 14, 64)        0         \n",
      "_________________________________________________________________\n",
      "conv2d_11 (Conv2D)           (None, 12, 12, 128)       73856     \n",
      "_________________________________________________________________\n",
      "max_pooling2d_11 (MaxPooling (None, 6, 6, 128)         0         \n",
      "_________________________________________________________________\n",
      "flatten_3 (Flatten)          (None, 4608)              0         \n",
      "_________________________________________________________________\n",
      "dropout_9 (Dropout)          (None, 4608)              0         \n",
      "_________________________________________________________________\n",
      "dense_9 (Dense)              (None, 128)               589952    \n",
      "_________________________________________________________________\n",
      "dropout_10 (Dropout)         (None, 128)               0         \n",
      "_________________________________________________________________\n",
      "dense_10 (Dense)             (None, 64)                8256      \n",
      "_________________________________________________________________\n",
      "dropout_11 (Dropout)         (None, 64)                0         \n",
      "_________________________________________________________________\n",
      "dense_11 (Dense)             (None, 6)                 390       \n",
      "=================================================================\n",
      "Total params: 691,846\n",
      "Trainable params: 691,846\n",
      "Non-trainable params: 0\n",
      "_________________________________________________________________\n"
     ]
    }
   ],
   "source": [
    "classifier.summary()"
   ]
  },
  {
   "cell_type": "code",
   "execution_count": 47,
   "metadata": {},
   "outputs": [
    {
     "name": "stdout",
     "output_type": "stream",
     "text": [
      "Epoch 1/25\n",
      "439/439 [==============================] - 174s 397ms/step - loss: 1.1304 - accuracy: 0.5478 - val_loss: 0.9280 - val_accuracy: 0.6323\n",
      "Epoch 2/25\n",
      "439/439 [==============================] - 64s 146ms/step - loss: 0.8459 - accuracy: 0.6805 - val_loss: 0.6986 - val_accuracy: 0.7523\n",
      "Epoch 3/25\n",
      "439/439 [==============================] - 68s 155ms/step - loss: 0.6975 - accuracy: 0.7519 - val_loss: 0.6861 - val_accuracy: 0.7553\n",
      "Epoch 4/25\n",
      "439/439 [==============================] - 64s 145ms/step - loss: 0.6257 - accuracy: 0.7752 - val_loss: 0.5979 - val_accuracy: 0.7927\n",
      "Epoch 5/25\n",
      "439/439 [==============================] - 64s 145ms/step - loss: 0.5715 - accuracy: 0.7978 - val_loss: 0.5150 - val_accuracy: 0.8170\n",
      "Epoch 6/25\n",
      "439/439 [==============================] - 69s 157ms/step - loss: 0.5179 - accuracy: 0.8158 - val_loss: 0.4877 - val_accuracy: 0.8337\n",
      "Epoch 7/25\n",
      "439/439 [==============================] - 62s 142ms/step - loss: 0.4970 - accuracy: 0.8180 - val_loss: 0.4787 - val_accuracy: 0.8363\n",
      "Epoch 8/25\n",
      "439/439 [==============================] - 62s 142ms/step - loss: 0.4734 - accuracy: 0.8294 - val_loss: 0.5323 - val_accuracy: 0.8060\n",
      "Epoch 9/25\n",
      "439/439 [==============================] - 62s 142ms/step - loss: 0.4594 - accuracy: 0.8369 - val_loss: 0.5009 - val_accuracy: 0.8313\n",
      "Epoch 10/25\n",
      "439/439 [==============================] - 62s 141ms/step - loss: 0.4227 - accuracy: 0.8470 - val_loss: 0.4667 - val_accuracy: 0.8410\n",
      "Epoch 11/25\n",
      "439/439 [==============================] - 62s 141ms/step - loss: 0.4104 - accuracy: 0.8536 - val_loss: 0.4791 - val_accuracy: 0.8350\n",
      "Epoch 12/25\n",
      "439/439 [==============================] - 62s 142ms/step - loss: 0.3833 - accuracy: 0.8606 - val_loss: 0.4721 - val_accuracy: 0.8343\n",
      "Epoch 13/25\n",
      "439/439 [==============================] - 63s 144ms/step - loss: 0.3581 - accuracy: 0.8697 - val_loss: 0.5487 - val_accuracy: 0.8170\n",
      "Epoch 14/25\n",
      "439/439 [==============================] - 63s 144ms/step - loss: 0.3520 - accuracy: 0.8712 - val_loss: 0.4831 - val_accuracy: 0.8423\n",
      "Epoch 15/25\n",
      "439/439 [==============================] - 87s 198ms/step - loss: 0.3250 - accuracy: 0.8819 - val_loss: 0.5079 - val_accuracy: 0.8310\n",
      "Epoch 16/25\n",
      "439/439 [==============================] - 62s 141ms/step - loss: 0.3150 - accuracy: 0.8850 - val_loss: 0.4645 - val_accuracy: 0.8390\n",
      "Epoch 17/25\n",
      "439/439 [==============================] - 64s 146ms/step - loss: 0.3054 - accuracy: 0.8897 - val_loss: 0.5020 - val_accuracy: 0.8363\n",
      "Epoch 18/25\n",
      "439/439 [==============================] - 64s 145ms/step - loss: 0.2909 - accuracy: 0.8954 - val_loss: 0.5001 - val_accuracy: 0.8403\n",
      "Epoch 19/25\n",
      "439/439 [==============================] - 62s 142ms/step - loss: 0.2773 - accuracy: 0.8977 - val_loss: 0.4775 - val_accuracy: 0.8450\n",
      "Epoch 20/25\n",
      "439/439 [==============================] - 63s 142ms/step - loss: 0.2719 - accuracy: 0.9022 - val_loss: 0.4772 - val_accuracy: 0.8480\n",
      "Epoch 21/25\n",
      "439/439 [==============================] - 62s 142ms/step - loss: 0.2518 - accuracy: 0.9096 - val_loss: 0.5635 - val_accuracy: 0.8243\n",
      "Epoch 22/25\n",
      "439/439 [==============================] - 63s 143ms/step - loss: 0.2435 - accuracy: 0.9087 - val_loss: 0.5250 - val_accuracy: 0.8410\n",
      "Epoch 23/25\n",
      "439/439 [==============================] - 63s 144ms/step - loss: 0.2383 - accuracy: 0.9106 - val_loss: 0.5649 - val_accuracy: 0.8343\n",
      "Epoch 24/25\n",
      "439/439 [==============================] - 64s 145ms/step - loss: 0.2271 - accuracy: 0.9158 - val_loss: 0.5152 - val_accuracy: 0.8487\n",
      "Epoch 25/25\n",
      "439/439 [==============================] - 62s 142ms/step - loss: 0.2215 - accuracy: 0.9195 - val_loss: 0.5539 - val_accuracy: 0.8443\n"
     ]
    },
    {
     "data": {
      "text/plain": [
       "<tensorflow.python.keras.callbacks.History at 0x10d16dbcc48>"
      ]
     },
     "execution_count": 47,
     "metadata": {},
     "output_type": "execute_result"
    }
   ],
   "source": [
    "classifier.fit(x = training_set, validation_data = test_set, batch_size=32, epochs = 25)"
   ]
  },
  {
   "cell_type": "code",
   "execution_count": 108,
   "metadata": {},
   "outputs": [],
   "source": [
    "import numpy as np\n",
    "from keras.preprocessing import image\n",
    "test_image = image.load_img('dataset/seg_pred/seg_pred/141.jpg', target_size = (64, 64))\n",
    "test_image = image.img_to_array(test_image)\n",
    "test_image = np.expand_dims(test_image, axis = 0)\n",
    "result = classifier.predict(test_image)\n",
    "classes = training_set.class_indices"
   ]
  },
  {
   "cell_type": "code",
   "execution_count": 109,
   "metadata": {},
   "outputs": [
    {
     "data": {
      "text/plain": [
       "array([[1., 0., 0., 0., 0., 0.]], dtype=float32)"
      ]
     },
     "execution_count": 109,
     "metadata": {},
     "output_type": "execute_result"
    }
   ],
   "source": [
    "result"
   ]
  },
  {
   "cell_type": "code",
   "execution_count": 107,
   "metadata": {},
   "outputs": [
    {
     "data": {
      "text/plain": [
       "{'buildings': 0,\n",
       " 'forest': 1,\n",
       " 'glacier': 2,\n",
       " 'mountain': 3,\n",
       " 'sea': 4,\n",
       " 'street': 5}"
      ]
     },
     "execution_count": 107,
     "metadata": {},
     "output_type": "execute_result"
    }
   ],
   "source": [
    "classes"
   ]
  },
  {
   "cell_type": "code",
   "execution_count": 102,
   "metadata": {},
   "outputs": [
    {
     "name": "stdout",
     "output_type": "stream",
     "text": [
      "0\n",
      "buildings\n"
     ]
    }
   ],
   "source": [
    "count=0\n",
    "for i in result:\n",
    "    for j in i:\n",
    "        if j == 1:\n",
    "            break\n",
    "        else:\n",
    "            count+=1\n",
    "\n",
    "if count==0:\n",
    "     print(\"buildings\")\n",
    "elif:\n",
    "    count"
   ]
  }
 ],
 "metadata": {
  "kernelspec": {
   "display_name": "Python 3",
   "language": "python",
   "name": "python3"
  },
  "language_info": {
   "codemirror_mode": {
    "name": "ipython",
    "version": 3
   },
   "file_extension": ".py",
   "mimetype": "text/x-python",
   "name": "python",
   "nbconvert_exporter": "python",
   "pygments_lexer": "ipython3",
   "version": "3.7.6"
  }
 },
 "nbformat": 4,
 "nbformat_minor": 4
}
